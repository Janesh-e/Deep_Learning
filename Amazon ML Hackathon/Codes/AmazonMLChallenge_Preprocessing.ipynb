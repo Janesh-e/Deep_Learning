{
  "nbformat": 4,
  "nbformat_minor": 0,
  "metadata": {
    "colab": {
      "provenance": []
    },
    "kernelspec": {
      "name": "python3",
      "display_name": "Python 3"
    },
    "language_info": {
      "name": "python"
    }
  },
  "cells": [
    {
      "cell_type": "code",
      "execution_count": null,
      "metadata": {
        "id": "DVyWoDUlR7Re"
      },
      "outputs": [],
      "source": [
        "import os\n",
        "import cv2\n",
        "import numpy as np"
      ]
    },
    {
      "cell_type": "code",
      "source": [
        "# Directory where the original images are stored\n",
        "image_dir = \"amazon_train_images\"\n",
        "# Directory where the preprocessed images will be saved\n",
        "preprocessed_dir = \"amazon_train_preprocessed_images\"\n",
        "os.makedirs(preprocessed_dir, exist_ok=True)"
      ],
      "metadata": {
        "id": "pWuEjHRVSDuC"
      },
      "execution_count": null,
      "outputs": []
    },
    {
      "cell_type": "code",
      "source": [
        "def resize_image(image_path, target_size=(1024, 1024)):\n",
        "    img = cv2.imread(image_path)\n",
        "    h, w = img.shape[:2]\n",
        "\n",
        "    # Calculate the scaling factor while keeping the aspect ratio\n",
        "    scale = min(target_size[0] / h, target_size[1] / w)\n",
        "\n",
        "    # Resize the image with better interpolation to avoid blurring text\n",
        "    resized_img = cv2.resize(img, (int(w * scale), int(h * scale)), interpolation=cv2.INTER_CUBIC)\n",
        "\n",
        "    # Create a new blank image (filled with white) of the target size\n",
        "    padded_img = np.ones((target_size[0], target_size[1], 3), dtype=np.uint8) * 255\n",
        "\n",
        "    # Get the top-left corner for centering the resized image\n",
        "    x_offset = (target_size[1] - resized_img.shape[1]) // 2\n",
        "    y_offset = (target_size[0] - resized_img.shape[0]) // 2\n",
        "\n",
        "    # Place the resized image on the padded image\n",
        "    padded_img[y_offset:y_offset + resized_img.shape[0], x_offset:x_offset + resized_img.shape[1]] = resized_img\n",
        "\n",
        "    return padded_img"
      ],
      "metadata": {
        "id": "Er0c2nhGWNRK"
      },
      "execution_count": null,
      "outputs": []
    },
    {
      "cell_type": "code",
      "source": [
        "# List all image files\n",
        "image_files = [f for f in os.listdir(image_dir) if f.endswith(\".jpg\")]"
      ],
      "metadata": {
        "id": "XmDuuZvKVYAK"
      },
      "execution_count": null,
      "outputs": []
    },
    {
      "cell_type": "code",
      "source": [
        "# Sort image files by numerical index\n",
        "# the format is \"{index}_{group_id}.jpg\"\n",
        "image_files.sort(key=lambda x: int(x.split('_')[0]))"
      ],
      "metadata": {
        "id": "22HXu1wNVaSR"
      },
      "execution_count": null,
      "outputs": []
    },
    {
      "cell_type": "code",
      "source": [
        "# Loop through all images and preprocess them\n",
        "for filename in image_files:\n",
        "    # Extract the index from the filename\n",
        "    index = filename.split('_')[0]\n",
        "\n",
        "    # Full path of the image\n",
        "    image_path = os.path.join(image_dir, filename)\n",
        "\n",
        "    # Preprocess the image (resize and pad)\n",
        "    preprocessed_image = resize_image(image_path, target_size=(512, 512))\n",
        "\n",
        "    # Save the preprocessed image with just the index as the file name\n",
        "    new_filename = f\"{index}.jpg\"\n",
        "    save_path = os.path.join(preprocessed_dir, new_filename)\n",
        "\n",
        "    cv2.imwrite(save_path, preprocessed_image)\n",
        "    print(f\"Preprocessed & saved: {new_filename}\")"
      ],
      "metadata": {
        "id": "HLxu7u6qSGgi"
      },
      "execution_count": null,
      "outputs": []
    }
  ]
}